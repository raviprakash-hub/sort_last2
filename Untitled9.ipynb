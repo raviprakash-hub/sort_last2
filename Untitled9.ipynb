{
 "cells": [
  {
   "cell_type": "code",
   "execution_count": 2,
   "id": "5e01f2b5",
   "metadata": {},
   "outputs": [
    {
     "name": "stdout",
     "output_type": "stream",
     "text": [
      "5\n",
      "iron man\n",
      "thor\n",
      "ant man\n",
      "black widow\n",
      "marvel\n",
      "['iron man', 'ant man', 'marvel', 'thor', 'black widow']\n"
     ]
    }
   ],
   "source": [
    "def sorting(input_list,n):\n",
    "    sort=sorted(input_list,key=lambda x:x[-2])\n",
    "    return sort\n",
    "n=int(input())\n",
    "input_list=[]\n",
    "for i in range(n):\n",
    "    input_list.append(input())\n",
    "obj=sorting(input_list,n)\n",
    "print(obj)"
   ]
  },
  {
   "cell_type": "code",
   "execution_count": null,
   "id": "05c85c8d",
   "metadata": {},
   "outputs": [],
   "source": []
  }
 ],
 "metadata": {
  "kernelspec": {
   "display_name": "Python 3",
   "language": "python",
   "name": "python3"
  },
  "language_info": {
   "codemirror_mode": {
    "name": "ipython",
    "version": 3
   },
   "file_extension": ".py",
   "mimetype": "text/x-python",
   "name": "python",
   "nbconvert_exporter": "python",
   "pygments_lexer": "ipython3",
   "version": "3.9.4"
  }
 },
 "nbformat": 4,
 "nbformat_minor": 5
}
